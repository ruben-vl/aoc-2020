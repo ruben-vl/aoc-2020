{
  "nbformat": 4,
  "nbformat_minor": 0,
  "metadata": {
    "colab": {
      "name": "aoc2015-1.ipynb",
      "provenance": []
    },
    "kernelspec": {
      "name": "python3",
      "display_name": "Python 3"
    }
  },
  "cells": [
    {
      "cell_type": "code",
      "metadata": {
        "colab": {
          "base_uri": "https://localhost:8080/"
        },
        "id": "pjrbt-RnY0eh",
        "outputId": "6f42cb3d-f075-406f-f11f-dcfc19c50f53"
      },
      "source": [
        "input = open(\"input.txt\",\"r\").read()\n",
        "floor = input.count(\"(\") - input.count(\")\")\n",
        "print(floor)"
      ],
      "execution_count": 8,
      "outputs": [
        {
          "output_type": "stream",
          "text": [
            "74\n"
          ],
          "name": "stdout"
        }
      ]
    },
    {
      "cell_type": "code",
      "metadata": {
        "colab": {
          "base_uri": "https://localhost:8080/"
        },
        "id": "pdLaV1khaMEU",
        "outputId": "aee2f6a2-ade8-42ad-c85d-527f22ac6736"
      },
      "source": [
        "input = open(\"input.txt\",\"r\").read()\n",
        "floor = 0\n",
        "for i in range(len(input)):\n",
        "  if (input[i] == \"(\"):\n",
        "    floor += 1\n",
        "  elif (input[i] == \")\"):\n",
        "    floor -= 1\n",
        "  else:\n",
        "    print(\"something wrong\")\n",
        "  if floor == -1:\n",
        "    print(i+1)\n",
        "    break\n",
        "print(\"If nothing printed, the basement wasn't reached.\")"
      ],
      "execution_count": 10,
      "outputs": [
        {
          "output_type": "stream",
          "text": [
            "1795\n",
            "If nothing printed, the basement wasn't reached.\n"
          ],
          "name": "stdout"
        }
      ]
    }
  ]
}