{
  "nbformat": 4,
  "nbformat_minor": 0,
  "metadata": {
    "colab": {
      "name": "day3.ipynb",
      "provenance": []
    },
    "kernelspec": {
      "display_name": "Python 3",
      "name": "python3"
    }
  },
  "cells": [
    {
      "cell_type": "code",
      "metadata": {
        "colab": {
          "base_uri": "https://localhost:8080/"
        },
        "id": "gcSaECyI9qpH",
        "outputId": "05d15d90-74ff-4294-c151-ba705cc5bd36"
      },
      "source": [
        "input = open(\"input.txt\", \"r\")\n",
        "\n",
        "i = 0\n",
        "length = len(\".#.....#..#..#....##.........#.\")\n",
        "trees = 0\n",
        "for x in input:\n",
        "  if x[i] == \"#\":\n",
        "    trees += 1\n",
        "  i = (i + 3)%length\n",
        "B = trees\n",
        "print(B)"
      ],
      "execution_count": 29,
      "outputs": [
        {
          "output_type": "stream",
          "text": [
            "294\n"
          ],
          "name": "stdout"
        }
      ]
    },
    {
      "cell_type": "code",
      "metadata": {
        "colab": {
          "base_uri": "https://localhost:8080/"
        },
        "id": "ObVDNsViGsJv",
        "outputId": "c614652e-665b-4bb3-e841-9ff208d8bd90"
      },
      "source": [
        "input = open(\"input.txt\", \"r\")\n",
        "\n",
        "i = 0\n",
        "length = len(\".#.....#..#..#....##.........#.\")\n",
        "trees = 0\n",
        "for x in input:\n",
        "  if x[i] == \"#\":\n",
        "    trees += 1\n",
        "  i = (i + 1)%length\n",
        "A = trees\n",
        "print(A)"
      ],
      "execution_count": 28,
      "outputs": [
        {
          "output_type": "stream",
          "text": [
            "75\n"
          ],
          "name": "stdout"
        }
      ]
    },
    {
      "cell_type": "code",
      "metadata": {
        "colab": {
          "base_uri": "https://localhost:8080/"
        },
        "id": "w73iR-ZjG0rc",
        "outputId": "331fef1a-2c36-415d-8efd-a0e1b403bed2"
      },
      "source": [
        "input = open(\"input.txt\", \"r\")\n",
        "\n",
        "i = 0\n",
        "length = len(\".#.....#..#..#....##.........#.\")\n",
        "trees = 0\n",
        "for x in input:\n",
        "  if x[i] == \"#\":\n",
        "    trees += 1\n",
        "  i = (i + 5)%length\n",
        "C = trees\n",
        "print(C)"
      ],
      "execution_count": 27,
      "outputs": [
        {
          "output_type": "stream",
          "text": [
            "79\n"
          ],
          "name": "stdout"
        }
      ]
    },
    {
      "cell_type": "code",
      "metadata": {
        "colab": {
          "base_uri": "https://localhost:8080/"
        },
        "id": "NSTX1V-hHN0x",
        "outputId": "e5192d80-cf3a-4bc2-bbe0-0c5303c60cc5"
      },
      "source": [
        "input = open(\"input.txt\", \"r\")\n",
        "\n",
        "i = 0\n",
        "length = len(\".#.....#..#..#....##.........#.\")\n",
        "trees = 0\n",
        "for x in input:\n",
        "  if x[i] == \"#\":\n",
        "    trees += 1\n",
        "  i = (i + 7)%length\n",
        "D = trees\n",
        "print(D)"
      ],
      "execution_count": 26,
      "outputs": [
        {
          "output_type": "stream",
          "text": [
            "85\n"
          ],
          "name": "stdout"
        }
      ]
    },
    {
      "cell_type": "code",
      "metadata": {
        "colab": {
          "base_uri": "https://localhost:8080/"
        },
        "id": "Qmfyo6RjHcnN",
        "outputId": "62bf7165-8557-48b5-a949-2e523faf7108"
      },
      "source": [
        "input = open(\"input.txt\", \"r\")\n",
        "\n",
        "i = 0\n",
        "line = 0\n",
        "length = len(\".#.....#..#..#....##.........#.\")\n",
        "trees = 0\n",
        "for x in input:\n",
        "  if line%2==0:\n",
        "    if x[i] == \"#\":\n",
        "      trees += 1\n",
        "    i = (i + 1)%length\n",
        "  line += 1\n",
        "E = trees\n",
        "print(E)"
      ],
      "execution_count": 25,
      "outputs": [
        {
          "output_type": "stream",
          "text": [
            "39\n"
          ],
          "name": "stdout"
        }
      ]
    },
    {
      "cell_type": "code",
      "metadata": {
        "id": "K-BN2FXG9qDA",
        "colab": {
          "base_uri": "https://localhost:8080/"
        },
        "outputId": "b5ed0fe3-33c1-487b-c4f6-e28d772d787a"
      },
      "source": [
        "A*B*C*D*E"
      ],
      "execution_count": 30,
      "outputs": [
        {
          "output_type": "execute_result",
          "data": {
            "text/plain": [
              "5774564250"
            ]
          },
          "metadata": {
            "tags": []
          },
          "execution_count": 30
        }
      ]
    }
  ]
}