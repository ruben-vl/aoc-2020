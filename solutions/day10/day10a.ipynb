{
  "nbformat": 4,
  "nbformat_minor": 0,
  "metadata": {
    "colab": {
      "name": "day10.ipynb",
      "provenance": []
    },
    "kernelspec": {
      "name": "python3",
      "display_name": "Python 3"
    }
  },
  "cells": [
    {
      "cell_type": "code",
      "metadata": {
        "colab": {
          "base_uri": "https://localhost:8080/"
        },
        "id": "HhEw4aCli2Kk",
        "outputId": "cacf8a2d-33be-4920-8fc4-4fdb26d6501c"
      },
      "source": [
        "input = open(\"input.txt\",\"r\")\n",
        "\n",
        "adapters = []\n",
        "for i in input:\n",
        "  adapters += [int(i.strip())]\n",
        "\n",
        "own_joltage = max(adapters)+3\n",
        "adapters += [own_joltage]\n",
        "adapters += [0]\n",
        "list.sort(adapters)\n",
        "print(adapters)\n",
        "\n",
        "jolt1 = 0\n",
        "jolt3 = 0\n",
        "\n",
        "for i in range(1,len(adapters)):\n",
        "  diff = adapters[i] - adapters[i-1]\n",
        "  if diff == 1:\n",
        "    jolt1 += 1\n",
        "  elif diff == 3:\n",
        "    jolt3 += 1\n",
        "\n",
        "\n",
        "print(jolt1)\n",
        "print(jolt3)\n",
        "print(jolt1*jolt3)"
      ],
      "execution_count": 15,
      "outputs": [
        {
          "output_type": "stream",
          "text": [
            "[0, 1, 2, 5, 6, 7, 8, 11, 12, 13, 14, 15, 18, 19, 20, 21, 22, 25, 26, 27, 28, 29, 32, 33, 34, 35, 38, 39, 40, 43, 46, 47, 48, 49, 50, 53, 54, 55, 56, 59, 60, 61, 62, 65, 68, 69, 70, 71, 74, 75, 78, 81, 82, 83, 86, 87, 88, 89, 92, 93, 94, 95, 96, 99, 102, 105, 106, 107, 108, 109, 112, 113, 114, 117, 118, 119, 120, 121, 124, 127, 128, 129, 132, 133, 134, 135, 136, 139, 140, 143, 146, 147, 148, 151, 154, 155, 158, 159, 160, 161, 162, 165, 168, 169, 170, 173]\n",
            "71\n",
            "34\n",
            "2414\n"
          ],
          "name": "stdout"
        }
      ]
    }
  ]
}