{
  "nbformat": 4,
  "nbformat_minor": 0,
  "metadata": {
    "colab": {
      "name": "aoc2020.ipynb",
      "provenance": []
    },
    "kernelspec": {
      "name": "python3",
      "display_name": "Python 3"
    }
  },
  "cells": [
    {
      "cell_type": "code",
      "metadata": {
        "id": "XIVh3vYS4pBF"
      },
      "source": [
        "import string"
      ],
      "execution_count": 6,
      "outputs": []
    },
    {
      "cell_type": "code",
      "metadata": {
        "colab": {
          "base_uri": "https://localhost:8080/"
        },
        "id": "B7nYA4bx1CcT",
        "outputId": "58c6f30f-f559-45a2-97d8-07928208a54e"
      },
      "source": [
        "input = open(\"input.txt\", \"r\")\n",
        "\n",
        "table = str.maketrans(dict.fromkeys(string.punctuation))\n",
        "valid_string_count = 0\n",
        "for x in input:\n",
        "  x_split = x.split(\" \")\n",
        "\n",
        "  range_str = x_split[0].split(\"-\")\n",
        "  range[0] = int(range_str[0])\n",
        "  range[1] = int(range_str[1])\n",
        "  letter = x_split[1].replace(\":\",\"\")\n",
        "  password = x_split[2].replace(\"\\n\",\"\")\n",
        "\n",
        "  counter = password.count(letter)\n",
        "  if counter >= range[0] and counter <= range[1]:\n",
        "    valid_string_count += 1\n",
        "\n",
        "print(valid_string_count)"
      ],
      "execution_count": 14,
      "outputs": [
        {
          "output_type": "stream",
          "text": [
            "439\n"
          ],
          "name": "stdout"
        }
      ]
    },
    {
      "cell_type": "code",
      "metadata": {
        "colab": {
          "base_uri": "https://localhost:8080/"
        },
        "id": "p56Epy7l8Pvj",
        "outputId": "04ea902c-b14b-4721-9434-e74e07bc7a58"
      },
      "source": [
        "input = open(\"input.txt\", \"r\")\n",
        "\n",
        "table = str.maketrans(dict.fromkeys(string.punctuation))\n",
        "valid_string_count = 0\n",
        "for x in input:\n",
        "  first = False\n",
        "  second = False\n",
        "  x_split = x.split(\" \")\n",
        "\n",
        "  range_str = x_split[0].split(\"-\")\n",
        "  range[0] = int(range_str[0])-1\n",
        "  range[1] = int(range_str[1])-1\n",
        "  letter = x_split[1].replace(\":\",\"\")\n",
        "  password = x_split[2]\n",
        "\n",
        "  if range[0] >= 0 and range[0] < len(password):\n",
        "    if password[range[0]] == letter:\n",
        "      first = True;\n",
        "\n",
        "  if range[1] >= 0 and range[1] < len(password):\n",
        "    if password[range[1]] == letter:\n",
        "      second = True;\n",
        "\n",
        "  if (first or second) and not (first and second):\n",
        "    valid_string_count += 1\n",
        "\n",
        "print(valid_string_count)"
      ],
      "execution_count": 25,
      "outputs": [
        {
          "output_type": "stream",
          "text": [
            "584\n"
          ],
          "name": "stdout"
        }
      ]
    }
  ]
}