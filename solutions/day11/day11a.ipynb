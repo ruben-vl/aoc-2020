{
  "nbformat": 4,
  "nbformat_minor": 0,
  "metadata": {
    "colab": {
      "name": "day11.ipynb",
      "provenance": []
    },
    "kernelspec": {
      "name": "python3",
      "display_name": "Python 3"
    }
  },
  "cells": [
    {
      "cell_type": "code",
      "metadata": {
        "colab": {
          "base_uri": "https://localhost:8080/"
        },
        "id": "RGKfrRqnA1Bd",
        "outputId": "b04461e0-9bc9-4df9-d995-bb3f72e3de64"
      },
      "source": [
        "import numpy as np\n",
        "\n",
        "input = open(\"input.txt\",\"r\")\n",
        "\n",
        "seats = np.empty([93,97],dtype=str)\n",
        "\n",
        "i = 0\n",
        "for x in input:\n",
        "  j = 0\n",
        "  for y in x.strip():\n",
        "    seats[i][j] = y\n",
        "    j += 1\n",
        "  i += 1\n",
        "\n",
        "copy = doIteration(seats)\n",
        "\n",
        "while not equals(seats,copy):\n",
        "  seats = clone(copy)\n",
        "  copy = doIteration(seats)\n",
        "\n",
        "print(countOccupied(seats))"
      ],
      "execution_count": 61,
      "outputs": [
        {
          "output_type": "stream",
          "text": [
            "2319\n"
          ],
          "name": "stdout"
        }
      ]
    },
    {
      "cell_type": "code",
      "metadata": {
        "id": "_PT6x6CbEQAf"
      },
      "source": [
        "def get(row,col,mat):\n",
        "  if row >= len(mat) or row < 0 or col >= len(mat[0]) or col < 0:\n",
        "    return '.'\n",
        "  else:\n",
        "    return mat[row][col]"
      ],
      "execution_count": 39,
      "outputs": []
    },
    {
      "cell_type": "code",
      "metadata": {
        "id": "RqNnf0_YE4Pr"
      },
      "source": [
        "def getAdjacentCount(row,col,mat):\n",
        "  count = 0\n",
        "  for i in range(-1,2,1):\n",
        "    for j in range(-1,2,1):\n",
        "      if i != 0 or j != 0:\n",
        "        seat = get(row+i,col+j,mat)\n",
        "        if seat == '#':\n",
        "          count += 1\n",
        "  return count\n"
      ],
      "execution_count": 57,
      "outputs": []
    },
    {
      "cell_type": "code",
      "metadata": {
        "id": "bhB6UwGGGHEt"
      },
      "source": [
        "def doIteration(mat):\n",
        "  \n",
        "  copy = np.empty([93,97],dtype=str)\n",
        "\n",
        "  for row in range(len(mat)):\n",
        "    for col in range(len(mat[row])):\n",
        "      if mat[row][col] == 'L':\n",
        "        if getAdjacentCount(row,col,mat) == 0:\n",
        "          copy[row][col] = '#'\n",
        "        else:\n",
        "          copy[row][col] = 'L'\n",
        "      elif mat[row][col] == '#':\n",
        "        if getAdjacentCount(row,col,mat) >= 4:\n",
        "          copy[row][col] = 'L'\n",
        "        else:\n",
        "          copy[row][col] = '#'\n",
        "      elif mat[row][col] == '.':\n",
        "        copy[row][col] = '.'\n",
        "      else:\n",
        "        print(\"Element not valid.\")\n",
        "  \n",
        "  return copy"
      ],
      "execution_count": 59,
      "outputs": []
    },
    {
      "cell_type": "code",
      "metadata": {
        "id": "GD3bwy5RNUp2"
      },
      "source": [
        "def equals(mat,other):\n",
        "  for i in range(len(mat)):\n",
        "    for j in range(len(mat[0])):\n",
        "      if mat[i][j] != other[i][j]:\n",
        "        return False\n",
        "  return True"
      ],
      "execution_count": 42,
      "outputs": []
    },
    {
      "cell_type": "code",
      "metadata": {
        "id": "y_zzDADGOuLZ"
      },
      "source": [
        "def countOccupied(mat):\n",
        "  count = 0\n",
        "  for i in range(len(mat)):\n",
        "    for j in range(len(mat[0])):\n",
        "      if mat[i][j] == '#':\n",
        "        count += 1\n",
        "  return count"
      ],
      "execution_count": 43,
      "outputs": []
    },
    {
      "cell_type": "code",
      "metadata": {
        "id": "r26S4F33Z8jd"
      },
      "source": [
        "def clone(mat):\n",
        "  clone = np.empty([93,97],dtype=str)\n",
        "  for i in range(len(mat)):\n",
        "    for j in range(len(mat[0])):\n",
        "      clone[i][j] = mat[i][j]\n",
        "  return clone"
      ],
      "execution_count": 50,
      "outputs": []
    }
  ]
}