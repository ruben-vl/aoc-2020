{
  "nbformat": 4,
  "nbformat_minor": 0,
  "metadata": {
    "colab": {
      "name": "day8.ipynb",
      "provenance": []
    },
    "kernelspec": {
      "name": "python3",
      "display_name": "Python 3"
    }
  },
  "cells": [
    {
      "cell_type": "code",
      "metadata": {
        "id": "b-CHJNakq4CK"
      },
      "source": [
        "input = open(\"input.txt\",\"r\")\n",
        "\n",
        "program = []\n",
        "for stat in input:\n",
        "  program += [stat.strip().split(' ')]\n",
        "\n",
        "stop_line = len(program)\n",
        "print(stop_line)\n",
        "stopped = False\n",
        "\n",
        "for i in range(len(program)):\n",
        "  print(i)\n",
        "  if 'nop' in program[i]:\n",
        "    original = 'nop'\n",
        "    program[i][0] = 'jmp'\n",
        "  elif 'jmp' in program[i]:\n",
        "    original = 'jmp'\n",
        "    program[i][0] = 'nop'\n",
        "\n",
        "\n",
        "  acc = 0\n",
        "  line = 0\n",
        "  lines_seen = set()\n",
        "\n",
        "  while not line in lines_seen:\n",
        "\n",
        "    if line == stop_line:\n",
        "      stopped = True\n",
        "      break\n",
        "    lines_seen.add(line)\n",
        "    instruction = program[line]\n",
        "    if 'nop' in instruction:\n",
        "      line += 1\n",
        "    elif 'acc' in instruction:\n",
        "      acc += int(instruction[1])\n",
        "      line += 1\n",
        "    elif 'jmp' in instruction:\n",
        "      line += int(instruction[1])\n",
        "\n",
        "  if not 'acc' in program[i]:\n",
        "    program[i][0] = original\n",
        "\n",
        "  if stopped:\n",
        "    print(acc)\n",
        "    break"
      ],
      "execution_count": null,
      "outputs": []
    }
  ]
}