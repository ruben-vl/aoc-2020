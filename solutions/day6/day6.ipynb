{
  "nbformat": 4,
  "nbformat_minor": 0,
  "metadata": {
    "colab": {
      "name": "day6.ipynb",
      "provenance": []
    },
    "kernelspec": {
      "name": "python3",
      "display_name": "Python 3"
    }
  },
  "cells": [
    {
      "cell_type": "code",
      "metadata": {
        "colab": {
          "base_uri": "https://localhost:8080/"
        },
        "id": "8Ke8Yk8i6_PJ",
        "outputId": "af049754-93c0-4d8d-e2bb-f9e57c637779"
      },
      "source": [
        "import string\n",
        "\n",
        "input = open(\"input.txt\",\"r\").read()\n",
        "count_any = 0\n",
        "count_all = 0\n",
        "\n",
        "for x in input.split(\"\\n\\n\"):\n",
        "  chars_any = set()\n",
        "  for y in x:\n",
        "    if y != '\\n':\n",
        "      chars_any.add(y)\n",
        "  count_any += len(chars_any)\n",
        "\n",
        "  chars_all = set()\n",
        "  for l in string.ascii_lowercase:\n",
        "    chars_all.add(l)\n",
        "\n",
        "  for z in x.strip().split(\"\\n\"):\n",
        "\n",
        "    chars_curr = set()\n",
        "    for n in z:\n",
        "      chars_curr.add(n)\n",
        "\n",
        "    chars_all = chars_all.intersection(chars_curr)\n",
        "\n",
        "  count_all += len(chars_all)\n",
        "\n",
        "print(count_any)\n",
        "print(count_all)"
      ],
      "execution_count": 18,
      "outputs": [
        {
          "output_type": "stream",
          "text": [
            "6310\n",
            "3193\n"
          ],
          "name": "stdout"
        }
      ]
    }
  ]
}