{
  "nbformat": 4,
  "nbformat_minor": 0,
  "metadata": {
    "colab": {
      "name": "day7.ipynb",
      "provenance": []
    },
    "kernelspec": {
      "name": "python3",
      "display_name": "Python 3"
    }
  },
  "cells": [
    {
      "cell_type": "code",
      "metadata": {
        "colab": {
          "base_uri": "https://localhost:8080/"
        },
        "id": "LeLH_Z6_eIr4",
        "outputId": "2be4046b-3625-4b47-e3e5-45050fa18845"
      },
      "source": [
        "input = open(\"input.txt\",\"r\")\n",
        "\n",
        "lib = dict()\n",
        "\n",
        "for x in input:\n",
        "  \n",
        "  x_split = x.split(\" contain \")\n",
        "\n",
        "  cont = dict()\n",
        "  cont_str = x_split[1].strip().strip(\".\").split(\",\")\n",
        "  if not 'no other bags' in cont_str:\n",
        "    for y in cont_str:\n",
        "      amount = int(y.strip()[0])\n",
        "      if (y.strip()[-1] == 's'):\n",
        "        key = y.strip()[2:-1]\n",
        "      else:\n",
        "        key = y.strip()[2:]\n",
        "      cont[key] = amount\n",
        "  \n",
        "  lib[x_split[0][0:-1]] = cont\n",
        "\n",
        "count = 0\n",
        "for key in lib:\n",
        "  key_exp = expand(key,lib)\n",
        "  for bag in key_exp:\n",
        "    if \"shiny gold\" in bag:\n",
        "      count += 1\n",
        "\n",
        "print(count)\n",
        "\n",
        "print(inside(\"shiny gold bag\",lib))"
      ],
      "execution_count": 49,
      "outputs": [
        {
          "output_type": "stream",
          "text": [
            "185\n",
            "89084\n"
          ],
          "name": "stdout"
        }
      ]
    },
    {
      "cell_type": "code",
      "metadata": {
        "id": "VtQvHlbNmJu9"
      },
      "source": [
        "def expand(key, lib):\n",
        "  if lib[key] == {}:\n",
        "    return set()\n",
        "  else:\n",
        "    result = set()\n",
        "    for k in lib[key]:\n",
        "      result.add(k)\n",
        "      result = result | expand(k,lib)\n",
        "    return result"
      ],
      "execution_count": 44,
      "outputs": []
    },
    {
      "cell_type": "code",
      "metadata": {
        "id": "H3lbga54q9dj"
      },
      "source": [
        "def inside(key, lib):\n",
        "  if lib[key] == {}:\n",
        "    return 0\n",
        "  else:\n",
        "    result = 0\n",
        "    for k in lib[key]:\n",
        "      result += lib[key][k]\n",
        "      result += lib[key][k]*inside(k,lib)\n",
        "    return result"
      ],
      "execution_count": 48,
      "outputs": []
    }
  ]
}